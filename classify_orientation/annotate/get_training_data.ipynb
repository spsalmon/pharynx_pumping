{
 "cells": [
  {
   "cell_type": "code",
   "execution_count": 1,
   "metadata": {},
   "outputs": [],
   "source": [
    "import os\n",
    "import pandas as pd\n",
    "import numpy as np\n",
    "import itertools\n",
    "import random\n",
    "from tifffile import imread, imwrite\n",
    "import matplotlib.pyplot as plt\n",
    "\n",
    "data_dirs = [\"/mnt/external.data/TowbinLab/kstojanovski/20220629_Ti2_20x_160-182-190_pumping_25C_20220629_154238_325/analysis/str_pharynx_videos/\", \"/mnt/external.data/TowbinLab/kstojanovski/20220401_Ti2_20x_160-182-190_pumping_25C_20220401_173300_429/analysis/str_pharynx_videos/\"]\n",
    "database_dir = \"/mnt/towbin.data/personal/spsalmon/pharyngeal_pumping/orientation_training_database\"\n",
    "\n",
    "os.makedirs(database_dir, exist_ok=True)\n",
    "\n",
    "all_data = []\n",
    "# Load the data\n",
    "for data_dir in data_dirs:\n",
    "    data = sorted([os.path.join(data_dir, f) for f in os.listdir(data_dir)])\n",
    "    all_data.extend(data)\n",
    "max_number_of_frames = 299\n",
    "frame_range = list(range(max_number_of_frames ))\n",
    "\n",
    "combinations = list(itertools.product(all_data, frame_range))\n",
    "random.shuffle(combinations)\n",
    "\n",
    "data = random.sample(combinations, 2000)\n",
    "\n",
    "for d in data:\n",
    "    img_path = d[0]\n",
    "    image = imread(img_path)\n",
    "    frame = image[d[1]]\n",
    "    imwrite(os.path.join(database_dir, f\"{d[0].split('/')[-1].split('.')[0]}_{d[1]}.tiff\"), frame)"
   ]
  }
 ],
 "metadata": {
  "kernelspec": {
   "display_name": "pharynx",
   "language": "python",
   "name": "python3"
  },
  "language_info": {
   "codemirror_mode": {
    "name": "ipython",
    "version": 3
   },
   "file_extension": ".py",
   "mimetype": "text/x-python",
   "name": "python",
   "nbconvert_exporter": "python",
   "pygments_lexer": "ipython3",
   "version": "3.8.10"
  },
  "orig_nbformat": 4
 },
 "nbformat": 4,
 "nbformat_minor": 2
}
