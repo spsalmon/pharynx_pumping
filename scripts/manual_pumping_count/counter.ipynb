{
 "cells": [
  {
   "cell_type": "code",
   "execution_count": 2,
   "metadata": {},
   "outputs": [
    {
     "data": {
      "application/vnd.jupyter.widget-view+json": {
       "model_id": "a8bc86181a6a40a3b035257fb88518aa",
       "version_major": 2,
       "version_minor": 0
      },
      "text/plain": [
       "Output(layout=Layout(height='600px', max_width='400px'))"
      ]
     },
     "metadata": {},
     "output_type": "display_data"
    },
    {
     "data": {
      "application/vnd.jupyter.widget-view+json": {
       "model_id": "7c221ef1cfdc45c0bd710613ef980016",
       "version_major": 2,
       "version_minor": 0
      },
      "text/plain": [
       "Dropdown(description='Select Video:', options=('/mnt/external.data/TowbinLab/kstojanovski/20220401_Ti2_20x_160…"
      ]
     },
     "metadata": {},
     "output_type": "display_data"
    },
    {
     "data": {
      "application/vnd.jupyter.widget-view+json": {
       "model_id": "ef2086cd0982404abb2ec88c988bc4a5",
       "version_major": 2,
       "version_minor": 0
      },
      "text/plain": [
       "Button(description='Play Video', style=ButtonStyle())"
      ]
     },
     "metadata": {},
     "output_type": "display_data"
    },
    {
     "data": {
      "application/vnd.jupyter.widget-view+json": {
       "model_id": "3b83c3ce9e3a44f1a5d0e299a4b22d0f",
       "version_major": 2,
       "version_minor": 0
      },
      "text/plain": [
       "IntText(value=0, description='Pump Events:')"
      ]
     },
     "metadata": {},
     "output_type": "display_data"
    },
    {
     "data": {
      "application/vnd.jupyter.widget-view+json": {
       "model_id": "59cc1be562024483af4b5e5a5e96ab44",
       "version_major": 2,
       "version_minor": 0
      },
      "text/plain": [
       "Button(description='Save', style=ButtonStyle())"
      ]
     },
     "metadata": {},
     "output_type": "display_data"
    },
    {
     "data": {
      "application/vnd.jupyter.widget-view+json": {
       "model_id": "79b3362a77fc41fbb0022d80b3ff2332",
       "version_major": 2,
       "version_minor": 0
      },
      "text/plain": [
       "Button(description='Ignore', style=ButtonStyle())"
      ]
     },
     "metadata": {},
     "output_type": "display_data"
    },
    {
     "name": "stdout",
     "output_type": "stream",
     "text": [
      "Saved 20 pumps for /mnt/external.data/TowbinLab/kstojanovski/20220401_Ti2_20x_160-182-190_pumping_25C_20220401_173300_429/analysis/str_pharynx_videos/Time00117_Point0021_Channel470 nm_Seq8079.tiff\n"
     ]
    },
    {
     "name": "stdout",
     "output_type": "stream",
     "text": [
      "Saved 14 pumps for /mnt/external.data/TowbinLab/kstojanovski/20220401_Ti2_20x_160-182-190_pumping_25C_20220401_173300_429/analysis/str_pharynx_videos/Time00127_Point0025_Channel470 nm_Seq8772.tiff\n"
     ]
    },
    {
     "name": "stdout",
     "output_type": "stream",
     "text": [
      "Ignored /mnt/external.data/TowbinLab/kstojanovski/20220401_Ti2_20x_160-182-190_pumping_25C_20220401_173300_429/analysis/str_pharynx_videos/Time00127_Point0037_Channel470 nm_Seq8786.tiff\n"
     ]
    },
    {
     "name": "stdout",
     "output_type": "stream",
     "text": [
      "Saved 24 pumps for /mnt/external.data/TowbinLab/kstojanovski/20220401_Ti2_20x_160-182-190_pumping_25C_20220401_173300_429/analysis/str_pharynx_videos/Time00134_Point0020_Channel470 nm_Seq9248.tiff\n"
     ]
    }
   ],
   "source": [
    "import os\n",
    "import pandas as pd\n",
    "import imageio\n",
    "from IPython.display import display, Video, clear_output\n",
    "from ipywidgets import Button, HBox, Output, Layout\n",
    "import ipywidgets as widgets\n",
    "from tifffile import imread, imwrite\n",
    "import cv2\n",
    "from IPython.core.display import Image\n",
    "import numpy as np\n",
    "import time\n",
    "\n",
    "# Load DataFrame or Create if doesn't exist\n",
    "csv_path = '/home/spsalmon/pharynx_test/scripts/pumping_manual_old_experiment.csv'\n",
    "if os.path.exists(csv_path):\n",
    "    df = pd.read_csv(csv_path)\n",
    "else:\n",
    "    df = pd.DataFrame(columns=[\"ImagePath\", \"ManualPumpingCount\"])\n",
    "\n",
    "# Function to convert tiff to mp4 and display\n",
    "def display_video(tiff_path):\n",
    "    time.sleep(2)\n",
    "    output_path = 'temp_video.mp4'\n",
    "    video = imread(tiff_path)\n",
    "    for frame in video:\n",
    "        with video_player:\n",
    "            clear_output(wait=True)\n",
    "            frame = frame/np.max(frame)\n",
    "            frame = (frame*255).astype(np.uint8)\n",
    "\n",
    "            # Define the new size\n",
    "            new_width = frame.shape[1] * 5  # Double the width\n",
    "            new_height = frame.shape[0] * 5  # Double the height\n",
    "\n",
    "            # Resize using bilinear interpolation\n",
    "            resized_img_bilinear = cv2.resize(frame, (new_width, new_height), interpolation=cv2.INTER_CUBIC)\n",
    "\n",
    "            _,ret = cv2.imencode('.jpg', resized_img_bilinear) \n",
    "            i = Image(data=ret)\n",
    "            display(i)\n",
    "            time.sleep(0.1)\n",
    "        \n",
    "\n",
    "\n",
    "list_videos = df['ImagePath'].dropna().tolist()\n",
    "# Widgets\n",
    "\n",
    "video_player = Output(layout=Layout(height=\"600px\", max_width=\"400px\"))\n",
    "video_dropdown = widgets.Dropdown(options=list_videos, description='Select Video:')\n",
    "play_button = widgets.Button(description=\"Play Video\")\n",
    "event_input = widgets.IntText(description='Pump Events:')\n",
    "save_button = widgets.Button(description=\"Save\")\n",
    "ignore_button = widgets.Button(description=\"Ignore\")\n",
    "\n",
    "# Actions\n",
    "def play_button_clicked(b):\n",
    "    if video_dropdown.value:\n",
    "        display_video(video_dropdown.value)\n",
    "\n",
    "def save_button_clicked(b):\n",
    "    index = df[df['ImagePath'] == video_dropdown.value].index[0]\n",
    "    df.at[index, 'ManualPumpingCount'] = event_input.value\n",
    "    df.to_csv(csv_path, index=False)\n",
    "    print(f\"Saved {event_input.value} pumps for {video_dropdown.value}\")\n",
    "\n",
    "def ignore_button_clicked(b):\n",
    "    index = df[df['ImagePath'] == video_dropdown.value].index[0]\n",
    "    df.at[index, 'ManualPumpingCount'] = -1\n",
    "    df.to_csv(csv_path, index=False)\n",
    "    print(f\"Ignored {video_dropdown.value}\")\n",
    "\n",
    "play_button.on_click(play_button_clicked)\n",
    "save_button.on_click(save_button_clicked)\n",
    "ignore_button.on_click(ignore_button_clicked)\n",
    "\n",
    "# Display\n",
    "display(video_player)\n",
    "display(video_dropdown, play_button, event_input, save_button, ignore_button)\n"
   ]
  }
 ],
 "metadata": {
  "kernelspec": {
   "display_name": "pharynx",
   "language": "python",
   "name": "python3"
  },
  "language_info": {
   "codemirror_mode": {
    "name": "ipython",
    "version": 3
   },
   "file_extension": ".py",
   "mimetype": "text/x-python",
   "name": "python",
   "nbconvert_exporter": "python",
   "pygments_lexer": "ipython3",
   "version": "3.8.10"
  },
  "orig_nbformat": 4
 },
 "nbformat": 4,
 "nbformat_minor": 2
}
