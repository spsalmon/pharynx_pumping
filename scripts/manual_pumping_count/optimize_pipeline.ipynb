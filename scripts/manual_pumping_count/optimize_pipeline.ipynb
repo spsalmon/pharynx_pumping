{
 "cells": [
  {
   "cell_type": "code",
   "execution_count": 258,
   "metadata": {},
   "outputs": [],
   "source": [
    "import os\n",
    "import numpy as np\n",
    "import pandas as pd\n",
    "\n",
    "import os\n",
    "import pandas as pd\n",
    "import re\n",
    "import numpy as np\n",
    "import matplotlib.pyplot as plt\n",
    "import os\n",
    "from time import time, sleep\n",
    "import ctypes\n",
    "import sys\n",
    "import skimage.io as skio\n",
    "from scipy.signal import find_peaks\n",
    "import skimage.exposure\n",
    "from skimage.filters.rank import entropy\n",
    "from skimage.measure import shannon_entropy\n",
    "from scipy.signal import medfilt\n",
    "from skimage.morphology import disk\n",
    "import glob\n",
    "import xgboost as xgb\n",
    "from tifffile import imread, imwrite\n",
    "import cv2\n",
    "from joblib import Parallel, delayed\n",
    "import seaborn as sns\n",
    "from towbintools.foundation.image_handling import normalize_image\n",
    "from towbintools.foundation.image_quality import normalized_variance_measure\n",
    "from towbintools.foundation.zstack import normalize_zstack\n",
    "from towbintools.foundation.file_handling import get_dir_filemap\n",
    "from towbintools.foundation.utils import nan_helper\n",
    "\n",
    "from sklearn.metrics import mean_squared_error, r2_score"
   ]
  },
  {
   "cell_type": "code",
   "execution_count": 259,
   "metadata": {},
   "outputs": [],
   "source": [
    "def extract_features(img, features_size):\n",
    "    img = normalize_image(img)\n",
    "    std = np.std(img, axis =0)\n",
    "    feature = np.zeros((1,features_size))\n",
    "    feature[0, 0:std.shape[0]] = std\n",
    "    return feature\n",
    "\n",
    "def count_orientation_errors(orientation):\n",
    "    # errors = np.count_nonzero(np.array(orientation) == [0, 0, 1])\n",
    "    errors = 0\n",
    "    for orient in orientation:\n",
    "        if orient == [0, 0, 1]:\n",
    "            errors += 1\n",
    "    return errors\n",
    "\n",
    "def extractPump_norm(straightened_image, clf):\n",
    "    feature = extract_features(straightened_image, 5000)\n",
    "    orientation_prediction = clf.predict_proba(feature).squeeze()\n",
    "    # convert proba to one hot encoding\n",
    "    pred_class = np.argmax(orientation_prediction)\n",
    "    orientation = [0, 0, 0]\n",
    "    orientation[pred_class] = 1\n",
    "    \n",
    "    std = np.std(straightened_image, axis =0)\n",
    "\n",
    "    peaks, peak_dict = find_peaks(std, distance=20, prominence = 0.05, height = 0.1)\n",
    "\n",
    "\n",
    "    if orientation == [1, 0, 0]:\n",
    "        # plt.plot(straightIm[:, peaks[-1]])\n",
    "        # plt.show()\n",
    "        try:\n",
    "            return -peak_dict['peak_heights'][-1], orientation\n",
    "        except IndexError:\n",
    "            return np.nan, orientation\n",
    "    elif orientation == [0, 1, 0]:\n",
    "        try:\n",
    "            return -peak_dict['peak_heights'][0], orientation\n",
    "        except IndexError:\n",
    "            return np.nan, orientation\n",
    "    else:\n",
    "        return np.nan, orientation\n",
    "    \n",
    "    \n",
    "def analyse_video(vid, model, **kwargs):\n",
    "    min_std = kwargs.get('min_std', 0.008)\n",
    "    std_coeff = kwargs.get('std_coeff', 0.75)\n",
    "    distance = kwargs.get('distance', 4)\n",
    "    wlen = kwargs.get('wlen', 10)\n",
    "\n",
    "    print(f'min std: {min_std}')\n",
    "\n",
    "    try:\n",
    "        pump = []\n",
    "        orientation = []\n",
    "\n",
    "        clf = xgb.XGBClassifier()\n",
    "        clf.load_model(model)\n",
    "        \n",
    "        for i in range(vid.shape[0]):\n",
    "            pump_value, orient = extractPump_norm(vid[i, :, :], clf)\n",
    "            pump.append(pump_value)\n",
    "            orientation.append(orient)\n",
    "\n",
    "        orientation_errors = count_orientation_errors(orientation)\n",
    "\n",
    "        if orientation_errors/len(orientation) > 0.10:\n",
    "            return np.nan\n",
    "\n",
    "        pump = np.array(pump)\n",
    "\n",
    "        pump = medfilt(pump)\n",
    "\n",
    "        # plt.plot(pump)\n",
    "        nans, x= nan_helper(pump)\n",
    "        pump[nans]= np.interp(x(nans), x(~nans), pump[~nans])\n",
    "\n",
    "        pump = medfilt(pump)\n",
    "        \n",
    "        std = np.std(pump)\n",
    "        std = max(std, min_std)\n",
    "\n",
    "        pump = medfilt(pump)\n",
    "        # pump = medfilt(pump)\n",
    "        # pump = medfilt(pump)\n",
    "        \n",
    "        peaks, _ = find_peaks(pump, distance=distance, prominence=std_coeff*std, wlen=wlen)\n",
    "\n",
    "        # plt.plot(pump)\n",
    "        # plt.plot(peaks, pump[peaks], \"x\")\n",
    "        # plt.show()\n",
    "\n",
    "        return len(peaks)\n",
    "    except ValueError:\n",
    "        return np.nan\n",
    "\n",
    "def process_video(video_path, **kwargs):\n",
    "    if video_path:\n",
    "        vid = imread(video_path)\n",
    "        mean_normalized_variance_of_vid = np.mean([normalized_variance_measure(frame) for frame in vid])\n",
    "        if mean_normalized_variance_of_vid < 400:\n",
    "            return np.nan\n",
    "        normalized_vid = normalize_zstack(vid, each_plane = False, dest_dtype = np.float64) # type: ignore\n",
    "        return analyse_video(normalized_vid, model=r\"C:\\Users\\sacha\\Documents\\towbin_lab\\pharynx\\classify_orientation\\model.json\", **kwargs)\n",
    "    else:\n",
    "        return np.nan\n",
    "    \n",
    "def process_list_of_videos(video_paths, **kwargs):\n",
    "    video_paths =  [path.replace('/mnt', '//izbkingston') for path in video_paths]\n",
    "    return Parallel(n_jobs=12)(delayed(process_video)(video_path, **kwargs) for video_path in video_paths)"
   ]
  },
  {
   "cell_type": "code",
   "execution_count": 260,
   "metadata": {},
   "outputs": [
    {
     "name": "stdout",
     "output_type": "stream",
     "text": [
      "(127, 2)\n"
     ]
    }
   ],
   "source": [
    "result_folder = \"../pumping_count_results/\"\n",
    "result_files = [os.path.join(result_folder, f) for f in os.listdir(result_folder)]\n",
    "# Load all manually annotated data\n",
    "\n",
    "manual_files = [f for f in result_files if \"manual\" in f]\n",
    "manual_data = pd.DataFrame()\n",
    "for file in manual_files:\n",
    "    data = pd.read_csv(file)\n",
    "    data = data.dropna(subset=[\"ManualPumpCount\"])\n",
    "    data = data.loc[data['ManualPumpCount'] >= 0]\n",
    "    manual_data = pd.concat([manual_data, data])\n",
    "\n",
    "annotated_videos = manual_data[\"ImagePath\"].unique()\n",
    "print(manual_data.shape)"
   ]
  },
  {
   "cell_type": "code",
   "execution_count": 261,
   "metadata": {},
   "outputs": [],
   "source": [
    "auto_pump_count = process_list_of_videos(annotated_videos, min_std=0.008, std_coeff=0.55, distance=3, wlen=10)"
   ]
  },
  {
   "cell_type": "code",
   "execution_count": 262,
   "metadata": {},
   "outputs": [],
   "source": [
    "# Remove manual data where auto pump count is nan\n",
    "\n",
    "manual_data = manual_data.loc[~np.isnan(auto_pump_count)]\n",
    "auto_pump_count = [x for x in auto_pump_count if np.isfinite(x)]"
   ]
  },
  {
   "cell_type": "code",
   "execution_count": 263,
   "metadata": {},
   "outputs": [
    {
     "name": "stdout",
     "output_type": "stream",
     "text": [
      "(120, 2)\n"
     ]
    }
   ],
   "source": [
    "print(manual_data.shape)"
   ]
  },
  {
   "cell_type": "code",
   "execution_count": 264,
   "metadata": {},
   "outputs": [
    {
     "name": "stdout",
     "output_type": "stream",
     "text": [
      "R2 score : 0.9512629634302738\n",
      "RSME : 2.3219962675824153\n"
     ]
    }
   ],
   "source": [
    "r2 = r2_score(manual_data[\"ManualPumpCount\"], auto_pump_count)\n",
    "rsme = mean_squared_error(manual_data[\"ManualPumpCount\"], auto_pump_count, squared=False)\n",
    "print('R2 score :', r2)\n",
    "print('RSME :', rsme)"
   ]
  },
  {
   "cell_type": "code",
   "execution_count": 265,
   "metadata": {},
   "outputs": [
    {
     "data": {
      "image/png": "[encoded data removed]",
      "text/plain": [
       "<Figure size 432x288 with 1 Axes>"
      ]
     },
     "metadata": {
      "needs_background": "light"
     },
     "output_type": "display_data"
    }
   ],
   "source": [
    "plt.plot(manual_data[\"ManualPumpCount\"]/10, np.array(auto_pump_count)/10, \"x\")\n",
    "plt.plot([0, np.max(manual_data[\"ManualPumpCount\"]/10)], [0, np.max(manual_data[\"ManualPumpCount\"]/10)], linewidth=2, color='r')\n",
    "plt.xlabel(\"Manual Pumping Rate (Hz)\")\n",
    "plt.ylabel(\"Auto Pumping Rate (Hz)\")\n",
    "plt.title(f\"Manual vs Auto Pumping Rate, R2 : {r2.round(3)}\")\n",
    "plt.show()"
   ]
  }
 ],
 "metadata": {
  "kernelspec": {
   "display_name": "Python 3",
   "language": "python",
   "name": "python3"
  },
  "language_info": {
   "codemirror_mode": {
    "name": "ipython",
    "version": 3
   },
   "file_extension": ".py",
   "mimetype": "text/x-python",
   "name": "python",
   "nbconvert_exporter": "python",
   "pygments_lexer": "ipython3",
   "version": "3.10.2"
  },
  "orig_nbformat": 4
 },
 "nbformat": 4,
 "nbformat_minor": 2
}
